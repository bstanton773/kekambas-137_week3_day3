{
 "cells": [
  {
   "cell_type": "markdown",
   "metadata": {},
   "source": [
    "# Python Requests"
   ]
  },
  {
   "cell_type": "markdown",
   "metadata": {},
   "source": [
    "## Tasks Today:\n",
    "\n",
    "   \n",
    "1) <b>Requests package</b> <br>\n",
    " &nbsp;&nbsp;&nbsp;&nbsp; a) pip install <br>\n",
    " &nbsp;&nbsp;&nbsp;&nbsp; b) requests.get <br>\n",
    " &nbsp;&nbsp;&nbsp;&nbsp; c) Response object <br>\n",
    " &nbsp;&nbsp;&nbsp;&nbsp; d) .content and .text <br>\n",
    " &nbsp;&nbsp;&nbsp;&nbsp; e) JSON <br>  \n",
    "2) <b>Python Wrapper</b> <br>\n",
    " &nbsp;&nbsp;&nbsp;&nbsp; a) API key and base url<br>\n",
    " &nbsp;&nbsp;&nbsp;&nbsp; b) Creating a class for our requests<br>\n",
    " &nbsp;&nbsp;&nbsp;&nbsp; c) Private method for getting the response data <br>\n",
    " &nbsp;&nbsp;&nbsp;&nbsp; d) Public method for displaying the data <br>\n",
    " &nbsp;&nbsp;&nbsp;&nbsp; e) In-Class Exercise #1 - Add a method for getting the high and lows for the next 3 days <br>\n",
    "3) <b>Exercises</b> <br>\n",
    " &nbsp;&nbsp;&nbsp;&nbsp; a) Exercise #1 - Pokemon Wrapper  <br>"
   ]
  },
  {
   "cell_type": "code",
   "execution_count": 2,
   "metadata": {},
   "outputs": [
    {
     "name": "stdout",
     "output_type": "stream",
     "text": [
      "pip 22.3.1 from C:\\Users\\bstan\\anaconda3\\lib\\site-packages\\pip (python 3.10)\n",
      "\n"
     ]
    }
   ],
   "source": [
    "!pip --version"
   ]
  },
  {
   "cell_type": "code",
   "execution_count": 1,
   "metadata": {},
   "outputs": [
    {
     "name": "stdout",
     "output_type": "stream",
     "text": [
      "Requirement already satisfied: faker in c:\\users\\bstan\\anaconda3\\lib\\site-packages (19.2.0)\n",
      "Requirement already satisfied: python-dateutil>=2.4 in c:\\users\\bstan\\anaconda3\\lib\\site-packages (from faker) (2.8.2)\n",
      "Requirement already satisfied: six>=1.5 in c:\\users\\bstan\\anaconda3\\lib\\site-packages (from python-dateutil>=2.4->faker) (1.16.0)\n"
     ]
    }
   ],
   "source": [
    "!pip install faker"
   ]
  },
  {
   "cell_type": "code",
   "execution_count": 4,
   "metadata": {},
   "outputs": [
    {
     "name": "stdout",
     "output_type": "stream",
     "text": [
      "<class 'faker.proxy.Faker'>\n"
     ]
    }
   ],
   "source": [
    "from faker import Faker\n",
    "\n",
    "print(Faker)\n",
    "fake = Faker()"
   ]
  },
  {
   "cell_type": "code",
   "execution_count": 5,
   "metadata": {},
   "outputs": [
    {
     "name": "stdout",
     "output_type": "stream",
     "text": [
      "<faker.proxy.Faker object at 0x000002897B428D00>\n"
     ]
    }
   ],
   "source": [
    "print(fake)"
   ]
  },
  {
   "cell_type": "code",
   "execution_count": 12,
   "metadata": {},
   "outputs": [
    {
     "data": {
      "text/plain": [
       "'Teresa Mcdonald'"
      ]
     },
     "execution_count": 12,
     "metadata": {},
     "output_type": "execute_result"
    }
   ],
   "source": [
    "fake.name()"
   ]
  },
  {
   "cell_type": "code",
   "execution_count": 25,
   "metadata": {},
   "outputs": [
    {
     "data": {
      "text/plain": [
       "'Jamie'"
      ]
     },
     "execution_count": 25,
     "metadata": {},
     "output_type": "execute_result"
    }
   ],
   "source": [
    "fake.first_name()"
   ]
  },
  {
   "cell_type": "code",
   "execution_count": 64,
   "metadata": {},
   "outputs": [
    {
     "data": {
      "text/plain": [
       "'Solicitor'"
      ]
     },
     "execution_count": 64,
     "metadata": {},
     "output_type": "execute_result"
    }
   ],
   "source": [
    "fake.job()"
   ]
  },
  {
   "cell_type": "code",
   "execution_count": 66,
   "metadata": {
    "scrolled": false
   },
   "outputs": [
    {
     "name": "stdout",
     "output_type": "stream",
     "text": [
      "[{'first_name': 'Michael', 'last_name': 'Jones', 'city': 'Jonestown', 'email': 'michael.jones@ross-moore.com', 'occupation': {'company': 'Banks-Harvey', 'position': 'Drilling engineer'}}, {'first_name': 'Angela', 'last_name': 'Richardson', 'city': 'East Mark', 'email': 'angela.richardson@mccann.biz', 'occupation': {'company': 'Henson, Smith and Hurley', 'position': 'Scientist, marine'}}, {'first_name': 'Curtis', 'last_name': 'Friedman', 'city': 'East Mariahaven', 'email': 'curtis.friedman@blair.net', 'occupation': {'company': 'Jackson-Mills', 'position': 'Clinical cytogeneticist'}}, {'first_name': 'Walter', 'last_name': 'Nelson', 'city': 'New Christine', 'email': 'walter.nelson@williams.com', 'occupation': {'company': 'Gregory-Burke', 'position': 'Press sub'}}, {'first_name': 'Lauren', 'last_name': 'Mcclure', 'city': 'Janetbury', 'email': 'lauren.mcclure@blair.net', 'occupation': {'company': 'Arroyo, Patrick and Jones', 'position': 'Teacher, primary school'}}, {'first_name': 'Douglas', 'last_name': 'Matthews', 'city': 'Calderonburgh', 'email': 'douglas.matthews@patel.com', 'occupation': {'company': 'Obrien, Boyd and White', 'position': 'Environmental health practitioner'}}, {'first_name': 'Penny', 'last_name': 'Romero', 'city': 'Cherylchester', 'email': 'penny.romero@williams-green.org', 'occupation': {'company': 'Hancock, Sanchez and Sosa', 'position': 'Surveyor, insurance'}}, {'first_name': 'Dana', 'last_name': 'Zimmerman', 'city': 'Jenniferburgh', 'email': 'dana.zimmerman@newman.biz', 'occupation': {'company': 'Long-Martin', 'position': 'Programmer, applications'}}, {'first_name': 'Cameron', 'last_name': 'Lozano', 'city': 'Taylorton', 'email': 'cameron.lozano@cantu.org', 'occupation': {'company': 'Mcfarland-Hill', 'position': 'Airline pilot'}}, {'first_name': 'Joe', 'last_name': 'Thomas', 'city': 'Joshuaport', 'email': 'joe.thomas@le.org', 'occupation': {'company': 'Johnson-Lopez', 'position': 'Designer, television/film set'}}]\n"
     ]
    }
   ],
   "source": [
    "data = []\n",
    "for _ in range(10):\n",
    "    first = fake.first_name()\n",
    "    last = fake.last_name()\n",
    "    person_info = {\n",
    "        'first_name': first,\n",
    "        'last_name': last,\n",
    "        'city': fake.city(),\n",
    "        'email': f'{first.lower()}.{last.lower()}@{fake.domain_name()}',\n",
    "        'occupation': {\n",
    "            'company': fake.company(),\n",
    "            'position': fake.job()\n",
    "        }\n",
    "    }\n",
    "    data.append(person_info)\n",
    "    \n",
    "print(data)"
   ]
  },
  {
   "cell_type": "markdown",
   "metadata": {},
   "source": [
    "#### Warm Up\n",
    "Write a function that takes in a name (first or last) and returns the position and company name of that person. If the user is not found, return -1"
   ]
  },
  {
   "cell_type": "code",
   "execution_count": null,
   "metadata": {},
   "outputs": [],
   "source": [
    "# Example 1\n",
    "# get_person_info('Adam')\n",
    "# Output: 'Records manager at Odom, Harper, and Allen'\n",
    "\n",
    "# Example 2\n",
    "# get_person_info('Burns')\n",
    "# Output: 'Applications developer at Sanders-Ryan'\n",
    "\n",
    "# Example 3\n",
    "# get_person_info('Alice')\n",
    "# Output: -1"
   ]
  },
  {
   "cell_type": "code",
   "execution_count": 70,
   "metadata": {},
   "outputs": [],
   "source": [
    "data = [\n",
    "    {\n",
    "        'first_name': 'Adam',\n",
    "        'last_name': 'Simpson',\n",
    "        'city': 'West Maureenland',\n",
    "        'email': 'adam.simpson@paul-williams.com',\n",
    "        'occupation': {\n",
    "            'company': 'Odom, Harper and Allen',\n",
    "            'position': 'Records manager'\n",
    "        }\n",
    "    },\n",
    "    {\n",
    "        'first_name': 'Robert',\n",
    "        'last_name': 'Miller',\n",
    "        'city': 'South Jaredburgh',\n",
    "        'email': 'robert.miller@allen.org',\n",
    "        'occupation': {\n",
    "            'company': 'Roberts-Jackson',\n",
    "            'position': 'Media planner'\n",
    "        }\n",
    "    },\n",
    "    {\n",
    "        'first_name': 'Edwin',\n",
    "        'last_name': 'Johnson',\n",
    "        'city': 'Lake Kimberly',\n",
    "        'email': 'edwin.johnson@sanders.biz',\n",
    "        'occupation': {\n",
    "            'company': 'Hart, Jones and Malone',\n",
    "            'position': 'Therapist, speech and language'\n",
    "        }\n",
    "    },\n",
    "    {\n",
    "        'first_name': 'Gail',\n",
    "        'last_name': 'Castro',\n",
    "        'city': 'Brianchester',\n",
    "        'email': 'gail.castro@suarez-sullivan.org',\n",
    "        'occupation': {\n",
    "            'company': 'Duncan-Gallagher',\n",
    "            'position': 'Designer, multimedia'\n",
    "        }\n",
    "    },\n",
    "    {\n",
    "        'first_name': 'Andre',\n",
    "        'last_name': 'Burns',\n",
    "        'city': 'New Samuelside',\n",
    "        'email': 'andre.burns@love.com',\n",
    "        'occupation': {\n",
    "            'company': 'Sanders-Ryan',\n",
    "            'position': 'Applications developer'\n",
    "        }\n",
    "    },\n",
    "    {\n",
    "        'first_name': 'Nicole',\n",
    "        'last_name': 'Maynard',\n",
    "        'city': 'Teresaville',\n",
    "        'email': 'nicole.maynard@chavez.com',\n",
    "        'occupation': {\n",
    "            'company': 'Hoffman, Reynolds and Wilson',\n",
    "            'position': 'Community education officer'\n",
    "        }\n",
    "    },\n",
    "    {\n",
    "        'first_name': 'Megan',\n",
    "        'last_name': 'Mcdonald',\n",
    "        'city': 'Walkerfurt',\n",
    "        'email': 'megan.mcdonald@guzman.info',\n",
    "        'occupation': {\n",
    "            'company': 'King Ltd',\n",
    "            'position': 'Doctor, general practice'\n",
    "        }\n",
    "    },\n",
    "    {\n",
    "        'first_name': 'Stephen',\n",
    "        'last_name': 'Young',\n",
    "        'city': 'South Jeffrey',\n",
    "        'email': 'stephen.young@smith.biz',\n",
    "        'occupation': {\n",
    "            'company': 'Hernandez LLC',\n",
    "            'position': 'Environmental manager'\n",
    "        }\n",
    "    },\n",
    "    {\n",
    "        'first_name': 'Daniel',\n",
    "        'last_name': 'Deleon',\n",
    "        'city': 'Yatesburgh',\n",
    "        'email': 'daniel.deleon@mcmahon.org',\n",
    "        'occupation': {\n",
    "            'company': 'Nelson-Wilson',\n",
    "            'position': 'Sports development officer'\n",
    "        }\n",
    "    },\n",
    "    {\n",
    "        'first_name': 'Patricia',\n",
    "        'last_name': 'Pacheco',\n",
    "        'city': 'South Donnamouth',\n",
    "        'email': 'patricia.pacheco@lee-wilson.com',\n",
    "        'occupation': {\n",
    "            'company': 'Giles, Williams and Jones',\n",
    "            'position': 'Theatre manager'\n",
    "        }\n",
    "    }\n",
    "]\n",
    "\n",
    "def get_person_info(name):\n",
    "    # Loop through each person in data (person is a dictionary)\n",
    "    for person in data:\n",
    "        # Check if the name argument matches either the person's first name or last name\n",
    "        if name == person['first_name'] or name == person['last_name']:\n",
    "            # Return the person's position at company\n",
    "            return f\"{person['occupation']['position']} at {person['occupation']['company']}\"\n",
    "    # If we loop through the entire list of data and none of the names match, return -1\n",
    "    return -1\n"
   ]
  },
  {
   "cell_type": "code",
   "execution_count": 71,
   "metadata": {},
   "outputs": [
    {
     "data": {
      "text/plain": [
       "'Records manager at Odom, Harper and Allen'"
      ]
     },
     "execution_count": 71,
     "metadata": {},
     "output_type": "execute_result"
    }
   ],
   "source": [
    "get_person_info('Adam')"
   ]
  },
  {
   "cell_type": "code",
   "execution_count": 72,
   "metadata": {},
   "outputs": [
    {
     "data": {
      "text/plain": [
       "'Applications developer at Sanders-Ryan'"
      ]
     },
     "execution_count": 72,
     "metadata": {},
     "output_type": "execute_result"
    }
   ],
   "source": [
    "get_person_info('Burns')"
   ]
  },
  {
   "cell_type": "code",
   "execution_count": 73,
   "metadata": {},
   "outputs": [
    {
     "data": {
      "text/plain": [
       "-1"
      ]
     },
     "execution_count": 73,
     "metadata": {},
     "output_type": "execute_result"
    }
   ],
   "source": [
    "get_person_info('Alice')"
   ]
  },
  {
   "cell_type": "markdown",
   "metadata": {},
   "source": [
    "### Requests Package\n",
    "<a href='https://docs.python-requests.org/en/latest/'>Docs</a>"
   ]
  },
  {
   "cell_type": "markdown",
   "metadata": {},
   "source": [
    "#### Install and import package"
   ]
  },
  {
   "cell_type": "code",
   "execution_count": 76,
   "metadata": {},
   "outputs": [],
   "source": [
    "# !pip install requests"
   ]
  },
  {
   "cell_type": "code",
   "execution_count": 1,
   "metadata": {},
   "outputs": [
    {
     "data": {
      "text/plain": [
       "<module 'requests' from 'C:\\\\Users\\\\bstan\\\\anaconda3\\\\lib\\\\site-packages\\\\requests\\\\__init__.py'>"
      ]
     },
     "execution_count": 1,
     "metadata": {},
     "output_type": "execute_result"
    }
   ],
   "source": [
    "import requests\n",
    "\n",
    "requests"
   ]
  },
  {
   "cell_type": "markdown",
   "metadata": {},
   "source": [
    "#### requests get method"
   ]
  },
  {
   "cell_type": "code",
   "execution_count": 2,
   "metadata": {},
   "outputs": [
    {
     "name": "stdout",
     "output_type": "stream",
     "text": [
      "Help on function get in module requests.api:\n",
      "\n",
      "get(url, params=None, **kwargs)\n",
      "    Sends a GET request.\n",
      "    \n",
      "    :param url: URL for the new :class:`Request` object.\n",
      "    :param params: (optional) Dictionary, list of tuples or bytes to send\n",
      "        in the query string for the :class:`Request`.\n",
      "    :param \\*\\*kwargs: Optional arguments that ``request`` takes.\n",
      "    :return: :class:`Response <Response>` object\n",
      "    :rtype: requests.Response\n",
      "\n"
     ]
    }
   ],
   "source": [
    "help(requests.get)"
   ]
  },
  {
   "cell_type": "code",
   "execution_count": 3,
   "metadata": {},
   "outputs": [
    {
     "data": {
      "text/plain": [
       "<Response [200]>"
      ]
     },
     "execution_count": 3,
     "metadata": {},
     "output_type": "execute_result"
    }
   ],
   "source": [
    "response = requests.get('https://www.codingtemple.com')\n",
    "\n",
    "response"
   ]
  },
  {
   "cell_type": "code",
   "execution_count": 4,
   "metadata": {},
   "outputs": [
    {
     "data": {
      "text/plain": [
       "<Response [404]>"
      ]
     },
     "execution_count": 4,
     "metadata": {},
     "output_type": "execute_result"
    }
   ],
   "source": [
    "bad_res = requests.get('https://www.github.com/salkdfjkdasjfhdasjfh')\n",
    "\n",
    "bad_res"
   ]
  },
  {
   "cell_type": "markdown",
   "metadata": {},
   "source": [
    "#### Response object"
   ]
  },
  {
   "cell_type": "code",
   "execution_count": 5,
   "metadata": {},
   "outputs": [
    {
     "data": {
      "text/plain": [
       "requests.models.Response"
      ]
     },
     "execution_count": 5,
     "metadata": {},
     "output_type": "execute_result"
    }
   ],
   "source": [
    "type(response)"
   ]
  },
  {
   "cell_type": "code",
   "execution_count": 6,
   "metadata": {
    "scrolled": false
   },
   "outputs": [
    {
     "name": "stdout",
     "output_type": "stream",
     "text": [
      "Help on Response in module requests.models object:\n",
      "\n",
      "class Response(builtins.object)\n",
      " |  The :class:`Response <Response>` object, which contains a\n",
      " |  server's response to an HTTP request.\n",
      " |  \n",
      " |  Methods defined here:\n",
      " |  \n",
      " |  __bool__(self)\n",
      " |      Returns True if :attr:`status_code` is less than 400.\n",
      " |      \n",
      " |      This attribute checks if the status code of the response is between\n",
      " |      400 and 600 to see if there was a client error or a server error. If\n",
      " |      the status code, is between 200 and 400, this will return True. This\n",
      " |      is **not** a check to see if the response code is ``200 OK``.\n",
      " |  \n",
      " |  __enter__(self)\n",
      " |  \n",
      " |  __exit__(self, *args)\n",
      " |  \n",
      " |  __getstate__(self)\n",
      " |  \n",
      " |  __init__(self)\n",
      " |      Initialize self.  See help(type(self)) for accurate signature.\n",
      " |  \n",
      " |  __iter__(self)\n",
      " |      Allows you to use a response as an iterator.\n",
      " |  \n",
      " |  __nonzero__(self)\n",
      " |      Returns True if :attr:`status_code` is less than 400.\n",
      " |      \n",
      " |      This attribute checks if the status code of the response is between\n",
      " |      400 and 600 to see if there was a client error or a server error. If\n",
      " |      the status code, is between 200 and 400, this will return True. This\n",
      " |      is **not** a check to see if the response code is ``200 OK``.\n",
      " |  \n",
      " |  __repr__(self)\n",
      " |      Return repr(self).\n",
      " |  \n",
      " |  __setstate__(self, state)\n",
      " |  \n",
      " |  close(self)\n",
      " |      Releases the connection back to the pool. Once this method has been\n",
      " |      called the underlying ``raw`` object must not be accessed again.\n",
      " |      \n",
      " |      *Note: Should not normally need to be called explicitly.*\n",
      " |  \n",
      " |  iter_content(self, chunk_size=1, decode_unicode=False)\n",
      " |      Iterates over the response data.  When stream=True is set on the\n",
      " |      request, this avoids reading the content at once into memory for\n",
      " |      large responses.  The chunk size is the number of bytes it should\n",
      " |      read into memory.  This is not necessarily the length of each item\n",
      " |      returned as decoding can take place.\n",
      " |      \n",
      " |      chunk_size must be of type int or None. A value of None will\n",
      " |      function differently depending on the value of `stream`.\n",
      " |      stream=True will read data as it arrives in whatever size the\n",
      " |      chunks are received. If stream=False, data is returned as\n",
      " |      a single chunk.\n",
      " |      \n",
      " |      If decode_unicode is True, content will be decoded using the best\n",
      " |      available encoding based on the response.\n",
      " |  \n",
      " |  iter_lines(self, chunk_size=512, decode_unicode=False, delimiter=None)\n",
      " |      Iterates over the response data, one line at a time.  When\n",
      " |      stream=True is set on the request, this avoids reading the\n",
      " |      content at once into memory for large responses.\n",
      " |      \n",
      " |      .. note:: This method is not reentrant safe.\n",
      " |  \n",
      " |  json(self, **kwargs)\n",
      " |      Returns the json-encoded content of a response, if any.\n",
      " |      \n",
      " |      :param \\*\\*kwargs: Optional arguments that ``json.loads`` takes.\n",
      " |      :raises requests.exceptions.JSONDecodeError: If the response body does not\n",
      " |          contain valid json.\n",
      " |  \n",
      " |  raise_for_status(self)\n",
      " |      Raises :class:`HTTPError`, if one occurred.\n",
      " |  \n",
      " |  ----------------------------------------------------------------------\n",
      " |  Readonly properties defined here:\n",
      " |  \n",
      " |  apparent_encoding\n",
      " |      The apparent encoding, provided by the charset_normalizer or chardet libraries.\n",
      " |  \n",
      " |  content\n",
      " |      Content of the response, in bytes.\n",
      " |  \n",
      " |  is_permanent_redirect\n",
      " |      True if this Response one of the permanent versions of redirect.\n",
      " |  \n",
      " |  is_redirect\n",
      " |      True if this Response is a well-formed HTTP redirect that could have\n",
      " |      been processed automatically (by :meth:`Session.resolve_redirects`).\n",
      " |  \n",
      " |  links\n",
      " |      Returns the parsed header links of the response, if any.\n",
      " |  \n",
      " |  next\n",
      " |      Returns a PreparedRequest for the next request in a redirect chain, if there is one.\n",
      " |  \n",
      " |  ok\n",
      " |      Returns True if :attr:`status_code` is less than 400, False if not.\n",
      " |      \n",
      " |      This attribute checks if the status code of the response is between\n",
      " |      400 and 600 to see if there was a client error or a server error. If\n",
      " |      the status code is between 200 and 400, this will return True. This\n",
      " |      is **not** a check to see if the response code is ``200 OK``.\n",
      " |  \n",
      " |  text\n",
      " |      Content of the response, in unicode.\n",
      " |      \n",
      " |      If Response.encoding is None, encoding will be guessed using\n",
      " |      ``charset_normalizer`` or ``chardet``.\n",
      " |      \n",
      " |      The encoding of the response content is determined based solely on HTTP\n",
      " |      headers, following RFC 2616 to the letter. If you can take advantage of\n",
      " |      non-HTTP knowledge to make a better guess at the encoding, you should\n",
      " |      set ``r.encoding`` appropriately before accessing this property.\n",
      " |  \n",
      " |  ----------------------------------------------------------------------\n",
      " |  Data descriptors defined here:\n",
      " |  \n",
      " |  __dict__\n",
      " |      dictionary for instance variables (if defined)\n",
      " |  \n",
      " |  __weakref__\n",
      " |      list of weak references to the object (if defined)\n",
      " |  \n",
      " |  ----------------------------------------------------------------------\n",
      " |  Data and other attributes defined here:\n",
      " |  \n",
      " |  __attrs__ = ['_content', 'status_code', 'headers', 'url', 'history', '...\n",
      "\n"
     ]
    }
   ],
   "source": [
    "help(response)"
   ]
  },
  {
   "cell_type": "code",
   "execution_count": 84,
   "metadata": {},
   "outputs": [
    {
     "name": "stdout",
     "output_type": "stream",
     "text": [
      "The request was successful\n"
     ]
    }
   ],
   "source": [
    "if response:\n",
    "    print('The request was successful')\n",
    "else:\n",
    "    print('Something went wrong')"
   ]
  },
  {
   "cell_type": "code",
   "execution_count": 85,
   "metadata": {},
   "outputs": [
    {
     "name": "stdout",
     "output_type": "stream",
     "text": [
      "Something went wrong\n"
     ]
    }
   ],
   "source": [
    "if bad_res:\n",
    "    print('The request was successful')\n",
    "else:\n",
    "    print('Something went wrong')"
   ]
  },
  {
   "cell_type": "code",
   "execution_count": 86,
   "metadata": {},
   "outputs": [
    {
     "data": {
      "text/plain": [
       "True"
      ]
     },
     "execution_count": 86,
     "metadata": {},
     "output_type": "execute_result"
    }
   ],
   "source": [
    "response.ok"
   ]
  },
  {
   "cell_type": "code",
   "execution_count": 87,
   "metadata": {},
   "outputs": [
    {
     "data": {
      "text/plain": [
       "200"
      ]
     },
     "execution_count": 87,
     "metadata": {},
     "output_type": "execute_result"
    }
   ],
   "source": [
    "response.status_code"
   ]
  },
  {
   "cell_type": "code",
   "execution_count": 88,
   "metadata": {},
   "outputs": [
    {
     "data": {
      "text/plain": [
       "'https://www.codingtemple.com/'"
      ]
     },
     "execution_count": 88,
     "metadata": {},
     "output_type": "execute_result"
    }
   ],
   "source": [
    "response.url"
   ]
  },
  {
   "cell_type": "code",
   "execution_count": 89,
   "metadata": {},
   "outputs": [
    {
     "data": {
      "text/plain": [
       "{'Date': 'Wed, 13 Dec 2023 20:58:25 GMT', 'Content-Type': 'text/html; charset=UTF-8', 'Transfer-Encoding': 'chunked', 'Connection': 'keep-alive', 'vary': 'Accept-Encoding', 'link': '<https://www.codingtemple.com/wp-json/>; rel=\"https://api.w.org/\", <https://www.codingtemple.com/wp-json/wp/v2/pages/6>; rel=\"alternate\"; type=\"application/json\", <https://www.codingtemple.com/>; rel=shortlink', 'Cache-Control': 'public, max-age=0, s-maxage=2592000', 'Last-Modified': 'Wed, 13 Dec 2023 19:53:44 GMT', 'CF-Cache-Status': 'HIT', 'Age': '864', 'Server': 'cloudflare', 'CF-RAY': '835120077d96e12f-ORD', 'Content-Encoding': 'br', 'alt-svc': 'h3=\":443\"; ma=86400'}"
      ]
     },
     "execution_count": 89,
     "metadata": {},
     "output_type": "execute_result"
    }
   ],
   "source": [
    "response.headers"
   ]
  },
  {
   "cell_type": "markdown",
   "metadata": {},
   "source": [
    "#### .content"
   ]
  },
  {
   "cell_type": "code",
   "execution_count": 8,
   "metadata": {},
   "outputs": [],
   "source": [
    "# print(response.content)"
   ]
  },
  {
   "cell_type": "markdown",
   "metadata": {},
   "source": [
    "#### .text"
   ]
  },
  {
   "cell_type": "code",
   "execution_count": 10,
   "metadata": {
    "scrolled": true
   },
   "outputs": [],
   "source": [
    "# print(response.text)"
   ]
  },
  {
   "cell_type": "code",
   "execution_count": 95,
   "metadata": {
    "scrolled": true
   },
   "outputs": [],
   "source": [
    "html = response.text"
   ]
  },
  {
   "cell_type": "code",
   "execution_count": null,
   "metadata": {},
   "outputs": [],
   "source": [
    "print(res.ok)"
   ]
  },
  {
   "cell_type": "markdown",
   "metadata": {},
   "source": [
    "#### JSON Response"
   ]
  },
  {
   "cell_type": "code",
   "execution_count": 11,
   "metadata": {},
   "outputs": [
    {
     "data": {
      "text/plain": [
       "<Response [200]>"
      ]
     },
     "execution_count": 11,
     "metadata": {},
     "output_type": "execute_result"
    }
   ],
   "source": [
    "# JSON - JavaScript Object Notation\n",
    "# {\"key1\": value, \"key2\": value, etc}\n",
    "\n",
    "berry_res = requests.get('https://pokeapi.co/api/v2/berry/cheri')\n",
    "berry_res"
   ]
  },
  {
   "cell_type": "code",
   "execution_count": 12,
   "metadata": {
    "scrolled": true
   },
   "outputs": [
    {
     "name": "stdout",
     "output_type": "stream",
     "text": [
      "{\"firmness\":{\"name\":\"soft\",\"url\":\"https://pokeapi.co/api/v2/berry-firmness/2/\"},\"flavors\":[{\"flavor\":{\"name\":\"spicy\",\"url\":\"https://pokeapi.co/api/v2/berry-flavor/1/\"},\"potency\":10},{\"flavor\":{\"name\":\"dry\",\"url\":\"https://pokeapi.co/api/v2/berry-flavor/2/\"},\"potency\":0},{\"flavor\":{\"name\":\"sweet\",\"url\":\"https://pokeapi.co/api/v2/berry-flavor/3/\"},\"potency\":0},{\"flavor\":{\"name\":\"bitter\",\"url\":\"https://pokeapi.co/api/v2/berry-flavor/4/\"},\"potency\":0},{\"flavor\":{\"name\":\"sour\",\"url\":\"https://pokeapi.co/api/v2/berry-flavor/5/\"},\"potency\":0}],\"growth_time\":3,\"id\":1,\"item\":{\"name\":\"cheri-berry\",\"url\":\"https://pokeapi.co/api/v2/item/126/\"},\"max_harvest\":5,\"name\":\"cheri\",\"natural_gift_power\":60,\"natural_gift_type\":{\"name\":\"fire\",\"url\":\"https://pokeapi.co/api/v2/type/10/\"},\"size\":20,\"smoothness\":25,\"soil_dryness\":15}\n",
      "<class 'str'>\n"
     ]
    }
   ],
   "source": [
    "data_text = berry_res.text\n",
    "print(data_text)\n",
    "print(type(data_text))"
   ]
  },
  {
   "cell_type": "code",
   "execution_count": 22,
   "metadata": {},
   "outputs": [],
   "source": [
    "# data_text[80:]"
   ]
  },
  {
   "cell_type": "code",
   "execution_count": 23,
   "metadata": {},
   "outputs": [
    {
     "name": "stdout",
     "output_type": "stream",
     "text": [
      "Help on method json in module requests.models:\n",
      "\n",
      "json(**kwargs) method of requests.models.Response instance\n",
      "    Returns the json-encoded content of a response, if any.\n",
      "    \n",
      "    :param \\*\\*kwargs: Optional arguments that ``json.loads`` takes.\n",
      "    :raises requests.exceptions.JSONDecodeError: If the response body does not\n",
      "        contain valid json.\n",
      "\n"
     ]
    }
   ],
   "source": [
    "help(berry_res.json)"
   ]
  },
  {
   "cell_type": "code",
   "execution_count": 24,
   "metadata": {
    "scrolled": true
   },
   "outputs": [
    {
     "name": "stdout",
     "output_type": "stream",
     "text": [
      "{'firmness': {'name': 'soft', 'url': 'https://pokeapi.co/api/v2/berry-firmness/2/'}, 'flavors': [{'flavor': {'name': 'spicy', 'url': 'https://pokeapi.co/api/v2/berry-flavor/1/'}, 'potency': 10}, {'flavor': {'name': 'dry', 'url': 'https://pokeapi.co/api/v2/berry-flavor/2/'}, 'potency': 0}, {'flavor': {'name': 'sweet', 'url': 'https://pokeapi.co/api/v2/berry-flavor/3/'}, 'potency': 0}, {'flavor': {'name': 'bitter', 'url': 'https://pokeapi.co/api/v2/berry-flavor/4/'}, 'potency': 0}, {'flavor': {'name': 'sour', 'url': 'https://pokeapi.co/api/v2/berry-flavor/5/'}, 'potency': 0}], 'growth_time': 3, 'id': 1, 'item': {'name': 'cheri-berry', 'url': 'https://pokeapi.co/api/v2/item/126/'}, 'max_harvest': 5, 'name': 'cheri', 'natural_gift_power': 60, 'natural_gift_type': {'name': 'fire', 'url': 'https://pokeapi.co/api/v2/type/10/'}, 'size': 20, 'smoothness': 25, 'soil_dryness': 15}\n",
      "<class 'dict'>\n"
     ]
    }
   ],
   "source": [
    "data = berry_res.json()\n",
    "print(data)\n",
    "print(type(data))"
   ]
  },
  {
   "cell_type": "code",
   "execution_count": 25,
   "metadata": {},
   "outputs": [
    {
     "data": {
      "text/plain": [
       "dict_keys(['firmness', 'flavors', 'growth_time', 'id', 'item', 'max_harvest', 'name', 'natural_gift_power', 'natural_gift_type', 'size', 'smoothness', 'soil_dryness'])"
      ]
     },
     "execution_count": 25,
     "metadata": {},
     "output_type": "execute_result"
    }
   ],
   "source": [
    "data.keys()"
   ]
  },
  {
   "cell_type": "code",
   "execution_count": 26,
   "metadata": {},
   "outputs": [
    {
     "data": {
      "text/plain": [
       "[{'flavor': {'name': 'spicy',\n",
       "   'url': 'https://pokeapi.co/api/v2/berry-flavor/1/'},\n",
       "  'potency': 10},\n",
       " {'flavor': {'name': 'dry',\n",
       "   'url': 'https://pokeapi.co/api/v2/berry-flavor/2/'},\n",
       "  'potency': 0},\n",
       " {'flavor': {'name': 'sweet',\n",
       "   'url': 'https://pokeapi.co/api/v2/berry-flavor/3/'},\n",
       "  'potency': 0},\n",
       " {'flavor': {'name': 'bitter',\n",
       "   'url': 'https://pokeapi.co/api/v2/berry-flavor/4/'},\n",
       "  'potency': 0},\n",
       " {'flavor': {'name': 'sour',\n",
       "   'url': 'https://pokeapi.co/api/v2/berry-flavor/5/'},\n",
       "  'potency': 0}]"
      ]
     },
     "execution_count": 26,
     "metadata": {},
     "output_type": "execute_result"
    }
   ],
   "source": [
    "data['flavors']"
   ]
  },
  {
   "cell_type": "code",
   "execution_count": 27,
   "metadata": {
    "scrolled": false
   },
   "outputs": [
    {
     "name": "stdout",
     "output_type": "stream",
     "text": [
      "spicy\n",
      "dry\n",
      "sweet\n",
      "bitter\n",
      "sour\n"
     ]
    }
   ],
   "source": [
    "for flavor in data['flavors']:\n",
    "    print(flavor['flavor']['name'])"
   ]
  },
  {
   "cell_type": "code",
   "execution_count": 28,
   "metadata": {
    "scrolled": true
   },
   "outputs": [
    {
     "name": "stdout",
     "output_type": "stream",
     "text": [
      "spicy\n",
      "dry\n",
      "sweet\n",
      "bitter\n",
      "sour\n"
     ]
    }
   ],
   "source": [
    "berry_res2 = requests.get('https://pokeapi.co/api/v2/berry/55')\n",
    "data2 = berry_res2.json()\n",
    "\n",
    "for flavor in data2['flavors']:\n",
    "    print(flavor['flavor']['name'])"
   ]
  },
  {
   "cell_type": "code",
   "execution_count": 29,
   "metadata": {},
   "outputs": [
    {
     "name": "stdout",
     "output_type": "stream",
     "text": [
      "<Response [200]>\n"
     ]
    }
   ],
   "source": [
    "poke_res = requests.get('https://pokeapi.co/api/v2/pokemon/squirtle')\n",
    "print(poke_res)"
   ]
  },
  {
   "cell_type": "code",
   "execution_count": 30,
   "metadata": {
    "scrolled": false
   },
   "outputs": [
    {
     "name": "stdout",
     "output_type": "stream",
     "text": [
      "<class 'dict'>\n"
     ]
    }
   ],
   "source": [
    "data = poke_res.json()\n",
    "print(type(data))"
   ]
  },
  {
   "cell_type": "code",
   "execution_count": 31,
   "metadata": {
    "scrolled": false
   },
   "outputs": [
    {
     "name": "stdout",
     "output_type": "stream",
     "text": [
      "<class 'list'>\n"
     ]
    }
   ],
   "source": [
    "abilities = data.get('abilities')\n",
    "print(type(abilities))"
   ]
  },
  {
   "cell_type": "code",
   "execution_count": 32,
   "metadata": {},
   "outputs": [
    {
     "name": "stdout",
     "output_type": "stream",
     "text": [
      "torrent\n",
      "rain-dish\n"
     ]
    }
   ],
   "source": [
    "for ability in abilities:\n",
    "    print(ability['ability']['name'])"
   ]
  },
  {
   "cell_type": "code",
   "execution_count": null,
   "metadata": {},
   "outputs": [],
   "source": []
  },
  {
   "cell_type": "markdown",
   "metadata": {},
   "source": [
    "### Python Wrappers"
   ]
  },
  {
   "cell_type": "code",
   "execution_count": 100,
   "metadata": {},
   "outputs": [
    {
     "name": "stdout",
     "output_type": "stream",
     "text": [
      "http://api.weatherapi.com/v1/current.json?key=1ac9901266fa4ab48f9185441220510&q=London\n"
     ]
    }
   ],
   "source": [
    "# To make a request to The Weather API, we need the base url, the api method, an api key, a q parameter\n",
    "\n",
    "base_url = 'http://api.weatherapi.com/v1'\n",
    "api_method = '/current.json'\n",
    "api_key = '1ac9901266fa4ab48f9185441220510'\n",
    "city_name = 'London'\n",
    "\n",
    "request_url = f\"{base_url}{api_method}?key={api_key}&q={city_name}\"\n",
    "print(request_url)"
   ]
  },
  {
   "cell_type": "code",
   "execution_count": 101,
   "metadata": {},
   "outputs": [
    {
     "data": {
      "text/plain": [
       "{'location': {'name': 'London',\n",
       "  'region': 'City of London, Greater London',\n",
       "  'country': 'United Kingdom',\n",
       "  'lat': 51.52,\n",
       "  'lon': -0.11,\n",
       "  'tz_id': 'Europe/London',\n",
       "  'localtime_epoch': 1702572286,\n",
       "  'localtime': '2023-12-14 16:44'},\n",
       " 'current': {'last_updated_epoch': 1702571400,\n",
       "  'last_updated': '2023-12-14 16:30',\n",
       "  'temp_c': 8.0,\n",
       "  'temp_f': 46.4,\n",
       "  'is_day': 0,\n",
       "  'condition': {'text': 'Fog',\n",
       "   'icon': '//cdn.weatherapi.com/weather/64x64/night/248.png',\n",
       "   'code': 1135},\n",
       "  'wind_mph': 2.2,\n",
       "  'wind_kph': 3.6,\n",
       "  'wind_degree': 280,\n",
       "  'wind_dir': 'W',\n",
       "  'pressure_mb': 1023.0,\n",
       "  'pressure_in': 30.21,\n",
       "  'precip_mm': 0.0,\n",
       "  'precip_in': 0.0,\n",
       "  'humidity': 93,\n",
       "  'cloud': 50,\n",
       "  'feelslike_c': 6.4,\n",
       "  'feelslike_f': 43.6,\n",
       "  'vis_km': 10.0,\n",
       "  'vis_miles': 6.0,\n",
       "  'uv': 1.0,\n",
       "  'gust_mph': 8.7,\n",
       "  'gust_kph': 14.0}}"
      ]
     },
     "execution_count": 101,
     "metadata": {},
     "output_type": "execute_result"
    }
   ],
   "source": [
    "res = requests.get(request_url)\n",
    "weather_data = res.json()\n",
    "weather_data"
   ]
  },
  {
   "cell_type": "code",
   "execution_count": 102,
   "metadata": {},
   "outputs": [
    {
     "name": "stdout",
     "output_type": "stream",
     "text": [
      "London\n",
      "City of London, Greater London\n",
      "46.4\n",
      "43.6\n",
      "Fog\n"
     ]
    }
   ],
   "source": [
    "city = weather_data['location']['name']\n",
    "print(city)\n",
    "\n",
    "region = weather_data['location']['region']\n",
    "print(region)\n",
    "\n",
    "current_temp = weather_data['current']['temp_f']\n",
    "print(current_temp)\n",
    "\n",
    "feels_like = weather_data['current']['feelslike_f']\n",
    "print(feels_like)\n",
    "\n",
    "condition = weather_data['current']['condition']['text']\n",
    "print(condition)\n"
   ]
  },
  {
   "cell_type": "code",
   "execution_count": 79,
   "metadata": {},
   "outputs": [],
   "source": [
    "class CityWeather:\n",
    "    def __init__(self, name, region, current, feels_like, condition):\n",
    "        self.city = name\n",
    "        self.region = region\n",
    "        self.current = current\n",
    "        self.feels_like = feels_like\n",
    "        self.condition = condition\n",
    "        \n",
    "    def __str__(self):\n",
    "        return f\"It is currently {self.condition} and {self.current} in {self.city}, {self.region}. \\\n",
    "It feels like {self.feels_like}.\""
   ]
  },
  {
   "cell_type": "code",
   "execution_count": 133,
   "metadata": {},
   "outputs": [],
   "source": [
    "class CityAstronomy:\n",
    "    def __init__(self, name, region, sunrise, sunset, moonrise, moonset, moon_phase):\n",
    "        self.city = name\n",
    "        self.region = region\n",
    "        self.sunrise = sunrise\n",
    "        self.sunset = sunset\n",
    "        self.moonrise = moonrise\n",
    "        self.moonset = moonset\n",
    "        self.moon_phase = moon_phase\n",
    "        \n",
    "    def __str__(self):\n",
    "        return f\"City: {self.city}\\nSunrise: {self.sunrise}\\nSunset: {self.sunset}\""
   ]
  },
  {
   "cell_type": "code",
   "execution_count": 135,
   "metadata": {},
   "outputs": [],
   "source": [
    "class WeatherAPI:\n",
    "    base_url = 'http://api.weatherapi.com/v1'\n",
    "    \n",
    "    def __init__(self, api_key):\n",
    "        self.api_key = api_key\n",
    "        \n",
    "    # Private method that will set up the request url, make the request, return the response data\n",
    "    # The __ before the function name is a naming convention for making a private method\n",
    "    def __get(self, city, api_method):\n",
    "        request_url = f\"{self.base_url}{api_method}?key={self.api_key}&q={city}\"\n",
    "        response = requests.get(request_url)\n",
    "        if response.ok:\n",
    "            data = response.json()\n",
    "            return data\n",
    "        else:\n",
    "            return None\n",
    "        \n",
    "    # Public method that will call the private method to get the data and create a weather object\n",
    "    def get_current_weather(self, city):\n",
    "        # Make the API get request to get back data\n",
    "        weather_data = self.__get(city, '/current.json')\n",
    "        # If there is data\n",
    "        if weather_data:\n",
    "            # Pull the specific info from the data\n",
    "            city = weather_data['location']['name']\n",
    "            region = weather_data['location']['region']\n",
    "            current_temp = weather_data['current']['temp_f']\n",
    "            feels_like = weather_data['current']['feelslike_f']\n",
    "            condition = weather_data['current']['condition']['text']\n",
    "            # Create a City Object out of that info\n",
    "            city_obj = CityWeather(city, region, current_temp, feels_like, condition)\n",
    "            return city_obj\n",
    "        else:\n",
    "            print('Something went wrong')\n",
    "            return None\n",
    "        \n",
    "    def get_astronomy(self, city):\n",
    "        astronomy_data = self.__get(city, '/astronomy.json')\n",
    "        if astronomy_data:\n",
    "            city = astronomy_data['location']['name']\n",
    "            region = astronomy_data['location']['region']\n",
    "            sunrise = astronomy_data['astronomy']['astro']['sunrise']\n",
    "            sunset = astronomy_data['astronomy']['astro']['sunset']\n",
    "            moonrise = astronomy_data['astronomy']['astro']['moonrise']\n",
    "            moonset = astronomy_data['astronomy']['astro']['moonset']\n",
    "            moon_phase = astronomy_data['astronomy']['astro']['moon_phase']\n",
    "            astro_obj = CityAstronomy(city, region, sunrise, sunset, moonrise, moonset, moon_phase)\n",
    "            return astro_obj\n",
    "        else:\n",
    "            print('Something went wrong')\n",
    "            return None\n",
    "        \n",
    "    \n",
    "        \n",
    "    "
   ]
  },
  {
   "cell_type": "code",
   "execution_count": 136,
   "metadata": {},
   "outputs": [
    {
     "data": {
      "text/plain": [
       "<__main__.WeatherAPI at 0x16458f63b50>"
      ]
     },
     "execution_count": 136,
     "metadata": {},
     "output_type": "execute_result"
    }
   ],
   "source": [
    "client = WeatherAPI('1ac9901266fa4ab48f9185441220510')\n",
    "client"
   ]
  },
  {
   "cell_type": "code",
   "execution_count": 138,
   "metadata": {},
   "outputs": [
    {
     "name": "stdout",
     "output_type": "stream",
     "text": [
      "City: Chicago\n",
      "Sunrise: 07:10 AM\n",
      "Sunset: 04:20 PM\n"
     ]
    }
   ],
   "source": [
    "chi_astro = client.get_astronomy('Chicago')\n",
    "print(chi_astro)"
   ]
  },
  {
   "cell_type": "code",
   "execution_count": 139,
   "metadata": {},
   "outputs": [
    {
     "name": "stdout",
     "output_type": "stream",
     "text": [
      "It is currently Partly cloudy and 41.0 in Chicago, Illinois. It feels like 35.7\n"
     ]
    }
   ],
   "source": [
    "chicago = client.get_current_weather('Chicago')\n",
    "print(chicago)"
   ]
  },
  {
   "cell_type": "code",
   "execution_count": 140,
   "metadata": {},
   "outputs": [
    {
     "name": "stdout",
     "output_type": "stream",
     "text": [
      "It is currently Mist and 30.6 in Denver, Colorado. It feels like 28.9\n"
     ]
    }
   ],
   "source": [
    "denver = client.get_current_weather('Denver')\n",
    "print(denver)"
   ]
  },
  {
   "cell_type": "code",
   "execution_count": 141,
   "metadata": {},
   "outputs": [
    {
     "name": "stdout",
     "output_type": "stream",
     "text": [
      "It is currently Light rain and 71.1 in Miami, Florida. It feels like 71.1\n"
     ]
    }
   ],
   "source": [
    "miami = client.get_current_weather('Miami')\n",
    "print(miami)"
   ]
  },
  {
   "cell_type": "code",
   "execution_count": 142,
   "metadata": {},
   "outputs": [
    {
     "name": "stdout",
     "output_type": "stream",
     "text": [
      "It is currently Sunny and 43.0 in Springfield, Illinois. It feels like 39.0\n"
     ]
    }
   ],
   "source": [
    "springfield = client.get_current_weather('Springfield, IL')\n",
    "print(springfield)"
   ]
  },
  {
   "cell_type": "code",
   "execution_count": 143,
   "metadata": {},
   "outputs": [
    {
     "data": {
      "text/plain": [
       "35.7"
      ]
     },
     "execution_count": 143,
     "metadata": {},
     "output_type": "execute_result"
    }
   ],
   "source": [
    "chicago.feels_like"
   ]
  },
  {
   "cell_type": "code",
   "execution_count": 147,
   "metadata": {},
   "outputs": [
    {
     "name": "stdout",
     "output_type": "stream",
     "text": [
      "City: Seattle\n",
      "Sunrise: 07:50 AM\n",
      "Sunset: 04:18 PM\n",
      "10:08 AM\n",
      "05:51 PM\n",
      "Waxing Crescent\n"
     ]
    }
   ],
   "source": [
    "seattle_astro = client.get_astronomy('Seattle')\n",
    "print(seattle_astro)\n",
    "print(seattle_astro.moonrise)\n",
    "print(seattle_astro.moonset)\n",
    "print(seattle_astro.moon_phase)"
   ]
  },
  {
   "cell_type": "code",
   "execution_count": 148,
   "metadata": {},
   "outputs": [],
   "source": [
    "def main():\n",
    "    print('Welcome to the weather app. It will tell you the weather for a city.')\n",
    "    key = input('You need an API Key to use this application. Enter it here: ')\n",
    "    client = WeatherAPI(key)\n",
    "    while True:\n",
    "        city = input('Enter a city name: ').title()\n",
    "        if city.lower() == 'quit':\n",
    "            break\n",
    "        city_weather = client.get_current_weather(city)\n",
    "        print(city_weather)\n",
    "        astro = input('Would you like the sunrise/sunset info? y/n ')\n",
    "        if astro.lower() == 'y':\n",
    "            city_astro = client.get_astronomy(city)\n",
    "            print(city_astro)"
   ]
  },
  {
   "cell_type": "code",
   "execution_count": null,
   "metadata": {},
   "outputs": [
    {
     "name": "stdout",
     "output_type": "stream",
     "text": [
      "Welcome to the weather app. It will tell you the weather for a city.\n",
      "You need an API Key to use this application. Enter it here: 1ac9901266fa4ab48f9185441220510\n",
      "Enter a city name: chicago\n",
      "It is currently Partly cloudy and 41.0 in Chicago, Illinois. It feels like 35.7\n",
      "Would you like the sunrise/sunset info? y/n y\n",
      "City: Chicago\n",
      "Sunrise: 07:10 AM\n",
      "Sunset: 04:20 PM\n"
     ]
    }
   ],
   "source": [
    "main()"
   ]
  },
  {
   "cell_type": "markdown",
   "metadata": {},
   "source": [
    "# Exercise"
   ]
  },
  {
   "cell_type": "markdown",
   "metadata": {},
   "source": [
    "#### Pokemon API Wrapper"
   ]
  },
  {
   "cell_type": "markdown",
   "metadata": {},
   "source": [
    "Create a python wrapper for the Pokemon API. It should take in a pokemon name and create a Pokemon object. The Pokemon object should have, at a minimum, the Pokemon's name, height, and weight."
   ]
  },
  {
   "cell_type": "code",
   "execution_count": null,
   "metadata": {},
   "outputs": [],
   "source": []
  }
 ],
 "metadata": {
  "kernelspec": {
   "display_name": "Python 3 (ipykernel)",
   "language": "python",
   "name": "python3"
  },
  "language_info": {
   "codemirror_mode": {
    "name": "ipython",
    "version": 3
   },
   "file_extension": ".py",
   "mimetype": "text/x-python",
   "name": "python",
   "nbconvert_exporter": "python",
   "pygments_lexer": "ipython3",
   "version": "3.10.9"
  }
 },
 "nbformat": 4,
 "nbformat_minor": 4
}
